{
 "cells": [
  {
   "cell_type": "markdown",
   "id": "68d0b00d-02b4-418b-9390-208812bf2bc7",
   "metadata": {},
   "source": [
    "# Flood Prediction Regression Notebook"
   ]
  },
  {
   "cell_type": "code",
   "execution_count": null,
   "id": "7eb4409d-b841-478f-8a69-54287c043034",
   "metadata": {},
   "outputs": [],
   "source": []
  }
 ],
 "metadata": {
  "kernelspec": {
   "display_name": "Python 3 (ipykernel)",
   "language": "python",
   "name": "python3"
  },
  "language_info": {
   "codemirror_mode": {
    "name": "ipython",
    "version": 3
   },
   "file_extension": ".py",
   "mimetype": "text/x-python",
   "name": "python",
   "nbconvert_exporter": "python",
   "pygments_lexer": "ipython3",
   "version": "3.12.3"
  }
 },
 "nbformat": 4,
 "nbformat_minor": 5
}
