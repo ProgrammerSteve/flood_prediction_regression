{
 "cells": [
  {
   "cell_type": "code",
   "execution_count": null,
   "id": "e0941a25-6445-4808-9756-ca7721b822b2",
   "metadata": {},
   "outputs": [],
   "source": [
    "import zipfile\n",
    "import os\n",
    "\n",
    "# Define the paths\n",
    "current_directory = os.getcwd()\n",
    "data_path=os.path.join(current_directory,\"data\")\n",
    "file_path=os.path.join(data_path,\"files.zip\")\n",
    "\n",
    "\n",
    "zip_file = \"files.zip\"\n",
    "extract_path = \"./data\"\n",
    "\n",
    "\n",
    "\n",
    "# Unzip the files\n",
    "with zipfile.ZipFile(file_path, 'r') as zip_ref:\n",
    "    zip_ref.extractall(data_path)\n",
    "\n",
    "print(\"Files unzipped successfully!\")\n"
   ]
  }
 ],
 "metadata": {
  "kernelspec": {
   "display_name": "Python 3 (ipykernel)",
   "language": "python",
   "name": "python3"
  },
  "language_info": {
   "codemirror_mode": {
    "name": "ipython",
    "version": 3
   },
   "file_extension": ".py",
   "mimetype": "text/x-python",
   "name": "python",
   "nbconvert_exporter": "python",
   "pygments_lexer": "ipython3",
   "version": "3.12.3"
  }
 },
 "nbformat": 4,
 "nbformat_minor": 5
}
